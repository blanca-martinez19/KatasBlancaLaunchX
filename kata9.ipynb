{
  "cells": [
    {
      "cell_type": "markdown",
      "metadata": {},
      "source": [
        "# Ejercicio: Uso de funciones en Python"
      ]
    },
    {
      "cell_type": "markdown",
      "metadata": {},
      "source": [
        "### Ejercicio 1: Trabajar con argumentos en funciones\n",
        "\n",
        "Los argumentos requeridos en las funciones se utilizan cuando las funciones necesitan que esos argumentos funcionen correctamente. En este ejercicio, construirás un informe de combustible que requiere información de varias ubicaciones de combustible en todo el cohete.\n",
        "\n"
      ]
    },
    {
      "cell_type": "markdown",
      "metadata": {},
      "source": [
        "\n",
        "Comienza por crear una función que necesite tres lecturas de combustible y devuelva un informe:"
      ]
    },
    {
      "cell_type": "code",
      "execution_count": 19,
      "metadata": {},
      "outputs": [],
      "source": [
        "# Función para leer 3 tanques de combustible y muestre el promedio\n",
        "def promedioTanques(tanque1, tanque2, tanque3):\n",
        "    promedio = (tanque1 + tanque2 + tanque3)/3\n",
        "    return f\"Promedio: {promedio}\""
      ]
    },
    {
      "cell_type": "markdown",
      "metadata": {},
      "source": [
        "Ahora que hemos definido la función de informes, vamos a comprobarlo. Para esta misión, los tanques no están llenos:"
      ]
    },
    {
      "cell_type": "code",
      "execution_count": 20,
      "metadata": {},
      "outputs": [
        {
          "name": "stdout",
          "output_type": "stream",
          "text": [
            "Promedio: 23.0\n"
          ]
        }
      ],
      "source": [
        "\n",
        "# Llamamos a la función que genera el reporte print(funcion(tanque1, tanque2, tanque3))\n",
        "print(promedioTanques(16,19,34))"
      ]
    },
    {
      "cell_type": "markdown",
      "metadata": {},
      "source": [
        "En lugar de simplemente crear el informe, la función también está calculando el promedio. Mejora la legibilidad extrayendo el cálculo promedio de la función en una nueva función para que el promedio se pueda hacer de forma independiente:"
      ]
    },
    {
      "cell_type": "code",
      "execution_count": 21,
      "metadata": {},
      "outputs": [],
      "source": [
        "# Función promedio \n",
        "def promedio(valores):\n",
        "   return sum(valores)/len(valores)\n"
      ]
    },
    {
      "cell_type": "markdown",
      "metadata": {},
      "source": [
        "Ahora actualiza la función de informes para llamando a la nueva función del promedio:\n"
      ]
    },
    {
      "cell_type": "code",
      "execution_count": 22,
      "metadata": {},
      "outputs": [
        {
          "name": "stdout",
          "output_type": "stream",
          "text": [
            "\n",
            "    Tanque1: 16 \n",
            "    Tanque2: 19\n",
            "    Tanque3: 34\n",
            "    Promedio: 23.0\n"
          ]
        }
      ],
      "source": [
        "# Actualiza la función\n",
        "def informes(tanque1, tanque2, tanque3):\n",
        "    avg = promedio([tanque1, tanque2, tanque3])\n",
        "    print(f\"\"\"\n",
        "    Tanque1: {tanque1} \n",
        "    Tanque2: {tanque2}\n",
        "    Tanque3: {tanque3}\n",
        "    Promedio: {avg}\"\"\")\n",
        "informes(16,19,34)"
      ]
    },
    {
      "cell_type": "markdown",
      "metadata": {},
      "source": [
        "## Ejercicio 2: Trabajo con argumentos de palabra clave"
      ]
    },
    {
      "cell_type": "markdown",
      "metadata": {},
      "source": [
        "### Ejercicio : Trabajar con argumentos de palabras clave en funciones\n",
        "En este ejercicio, construirás un informe de cohete que requiere varias piezas de información, como el tiempo hasta el destino, el combustible a la izquierda y el nombre del destino. Comienza por crear una función que creará un informe preciso de la misión:"
      ]
    },
    {
      "cell_type": "code",
      "execution_count": 18,
      "metadata": {},
      "outputs": [
        {
          "name": "stdout",
          "output_type": "stream",
          "text": [
            "\"\n",
            "    Prelanzamiento: 14\n",
            "    Tiempo de vuelo: 51hrs\n",
            "    Destino: Moon\n",
            "    Tanque externo: 200000 \n",
            "    Tanque interno: 300000\n",
            "    \n"
          ]
        }
      ],
      "source": [
        "# Función con un informe preciso de la misión. Considera hora de prelanzamiento, tiempo de vuelo, destino, tanque externo y tanque interno\n",
        "def informeMision(prelanzamiento, tiempo_vuelo, destino, tanque_ext, tanque_interno):\n",
        "    print(f\"\"\"\"\n",
        "    Prelanzamiento: {prelanzamiento}\n",
        "    Tiempo de vuelo: {tiempo_vuelo}hrs\n",
        "    Destino: {destino}\n",
        "    Tanque externo: {tanque_ext} \n",
        "    Tanque interno: {tanque_interno}\n",
        "    \"\"\")\n",
        "informeMision(14, 51, \"Moon\", 200000, 300000)"
      ]
    },
    {
      "cell_type": "markdown",
      "metadata": {},
      "source": [
        "La función es problemática porque no se puede adaptar para minutos adicionales o tanques adicionales de combustible. Hazlo más flexible permitiendo cualquier número de pasos basados en el tiempo y cualquier número de tanques. En lugar de usar `*args` y `**kwargs`, aprovecha el hecho de que puedes usar cualquier nombre que desees. Asegurate que la función sea más legible mediante el uso de nombres de variables que están asociados con las entradas, como `*minutes` y `**fuel_reservoirs`:"
      ]
    },
    {
      "cell_type": "code",
      "execution_count": 33,
      "metadata": {},
      "outputs": [
        {
          "name": "stdout",
          "output_type": "stream",
          "text": [
            "\"\n",
            "    Tiempo total: 19\n",
            "    Destino: Moon\n",
            "    Tanque main: 300000 Tanque external: 200000 \n",
            "    Total tanques: 500000.0\n",
            "    \n"
          ]
        }
      ],
      "source": [
        "# Escribe tu nueva función de reporte considerando lo anterior\n",
        "def informeMision2(destino, *tiempos, **tanques):\n",
        "    tTanques =0.0\n",
        "    str = f\"\"\"\"\n",
        "    Tiempo total: {sum(tiempos)}\n",
        "    Destino: {destino}\n",
        "    \"\"\"\n",
        "    for nombre, valor in tanques.items():\n",
        "        str += f\"Tanque {nombre}: {valor} \"\n",
        "        tTanques +=valor\n",
        "    str +=f\"\"\"\n",
        "    Total tanques: {tTanques}\n",
        "    \"\"\"\n",
        "    return str\n",
        "print(informeMision2(\"Moon\", 8, 11, main=300000, external=200000))"
      ]
    },
    {
      "cell_type": "markdown",
      "metadata": {},
      "source": [
        "Debido a que el combustible que queda en los tanques es específico de cada tanque, actualiza la función para usar el nombre de cada tanque en el informe:"
      ]
    },
    {
      "cell_type": "code",
      "execution_count": 32,
      "metadata": {},
      "outputs": [
        {
          "name": "stdout",
          "output_type": "stream",
          "text": [
            "\"\n",
            "    Tiempo total: 74\n",
            "    Destino: Moon\n",
            "    Tanque main: 300000 Tanque external: 200000 \n",
            "    Total tanques: 500000.0\n",
            "    \n"
          ]
        }
      ],
      "source": [
        "# Escribe tu nueva función\n",
        "def informeMision2(destino, *tiempos, **tanques):\n",
        "    tTanques =0.0\n",
        "    str = f\"\"\"\"\n",
        "    Tiempo total: {sum(tiempos)}\n",
        "    Destino: {destino}\n",
        "    \"\"\"\n",
        "    for nombre, valor in tanques.items():\n",
        "        str += f\"Tanque {nombre}: {valor} \"\n",
        "        tTanques +=valor\n",
        "    str +=f\"\"\"\n",
        "    Total tanques: {tTanques}\n",
        "    \"\"\"\n",
        "    return str\n",
        "print(informeMision2(\"Moon\", 8, 11, 55, main=300000, external=200000))"
      ]
    }
  ],
  "metadata": {
    "interpreter": {
      "hash": "205095b8b86ea82a021a8fc2ffba2b3bc9f8d0be25999901963b225939f75778"
    },
    "kernelspec": {
      "display_name": "Python 3.8.10 64-bit ('tmp': conda)",
      "name": "python3"
    },
    "language_info": {
      "codemirror_mode": {
        "name": "ipython",
        "version": 3
      },
      "file_extension": ".py",
      "mimetype": "text/x-python",
      "name": "python",
      "nbconvert_exporter": "python",
      "pygments_lexer": "ipython3",
      "version": "3.7.0"
    },
    "nteract": {
      "version": "nteract-front-end@1.0.0"
    },
    "orig_nbformat": 4
  },
  "nbformat": 4,
  "nbformat_minor": 2
}
